{
 "cells": [
  {
   "cell_type": "code",
   "execution_count": 1,
   "metadata": {},
   "outputs": [],
   "source": [
    "import pandas as pd"
   ]
  },
  {
   "cell_type": "code",
   "execution_count": 7,
   "metadata": {},
   "outputs": [],
   "source": [
    "df=pd.read_csv('VK100 .csv',index_col=0)"
   ]
  },
  {
   "cell_type": "code",
   "execution_count": 8,
   "metadata": {},
   "outputs": [
    {
     "data": {
      "text/html": [
       "<div>\n",
       "<style scoped>\n",
       "    .dataframe tbody tr th:only-of-type {\n",
       "        vertical-align: middle;\n",
       "    }\n",
       "\n",
       "    .dataframe tbody tr th {\n",
       "        vertical-align: top;\n",
       "    }\n",
       "\n",
       "    .dataframe thead th {\n",
       "        text-align: right;\n",
       "    }\n",
       "</style>\n",
       "<table border=\"1\" class=\"dataframe\">\n",
       "  <thead>\n",
       "    <tr style=\"text-align: right;\">\n",
       "      <th></th>\n",
       "      <th>Format</th>\n",
       "      <th>Inning</th>\n",
       "      <th>Position</th>\n",
       "      <th>Score</th>\n",
       "      <th>Balls</th>\n",
       "      <th>Strike Rate</th>\n",
       "      <th>Against</th>\n",
       "      <th>Venue</th>\n",
       "      <th>Host Nation</th>\n",
       "      <th>Series</th>\n",
       "      <th>Year</th>\n",
       "      <th>Team Total</th>\n",
       "      <th>Wickets lost</th>\n",
       "      <th>Not Out</th>\n",
       "      <th>MOTM</th>\n",
       "      <th>Win</th>\n",
       "      <th>Captain</th>\n",
       "    </tr>\n",
       "    <tr>\n",
       "      <th>Number</th>\n",
       "      <th></th>\n",
       "      <th></th>\n",
       "      <th></th>\n",
       "      <th></th>\n",
       "      <th></th>\n",
       "      <th></th>\n",
       "      <th></th>\n",
       "      <th></th>\n",
       "      <th></th>\n",
       "      <th></th>\n",
       "      <th></th>\n",
       "      <th></th>\n",
       "      <th></th>\n",
       "      <th></th>\n",
       "      <th></th>\n",
       "      <th></th>\n",
       "      <th></th>\n",
       "    </tr>\n",
       "  </thead>\n",
       "  <tbody>\n",
       "    <tr>\n",
       "      <th>1</th>\n",
       "      <td>ODI</td>\n",
       "      <td>2</td>\n",
       "      <td>4</td>\n",
       "      <td>107</td>\n",
       "      <td>114</td>\n",
       "      <td>93.859649</td>\n",
       "      <td>Sri Lanka</td>\n",
       "      <td>Kolkata</td>\n",
       "      <td>India</td>\n",
       "      <td>Bilateral</td>\n",
       "      <td>2009</td>\n",
       "      <td>316</td>\n",
       "      <td>3</td>\n",
       "      <td>No</td>\n",
       "      <td>No</td>\n",
       "      <td>Yes</td>\n",
       "      <td>No</td>\n",
       "    </tr>\n",
       "    <tr>\n",
       "      <th>2</th>\n",
       "      <td>ODI</td>\n",
       "      <td>2</td>\n",
       "      <td>3</td>\n",
       "      <td>102</td>\n",
       "      <td>95</td>\n",
       "      <td>107.368421</td>\n",
       "      <td>Bangladesh</td>\n",
       "      <td>Mirpur</td>\n",
       "      <td>Bangladesh</td>\n",
       "      <td>Tri-Series</td>\n",
       "      <td>2010</td>\n",
       "      <td>249</td>\n",
       "      <td>4</td>\n",
       "      <td>Yes</td>\n",
       "      <td>Yes</td>\n",
       "      <td>Yes</td>\n",
       "      <td>No</td>\n",
       "    </tr>\n",
       "    <tr>\n",
       "      <th>3</th>\n",
       "      <td>ODI</td>\n",
       "      <td>2</td>\n",
       "      <td>3</td>\n",
       "      <td>118</td>\n",
       "      <td>121</td>\n",
       "      <td>97.520661</td>\n",
       "      <td>Australia</td>\n",
       "      <td>Vizag</td>\n",
       "      <td>India</td>\n",
       "      <td>Bilateral</td>\n",
       "      <td>2010</td>\n",
       "      <td>292</td>\n",
       "      <td>5</td>\n",
       "      <td>No</td>\n",
       "      <td>Yes</td>\n",
       "      <td>Yes</td>\n",
       "      <td>No</td>\n",
       "    </tr>\n",
       "    <tr>\n",
       "      <th>4</th>\n",
       "      <td>ODI</td>\n",
       "      <td>1</td>\n",
       "      <td>3</td>\n",
       "      <td>105</td>\n",
       "      <td>104</td>\n",
       "      <td>100.961539</td>\n",
       "      <td>New Zealand</td>\n",
       "      <td>Guwahati</td>\n",
       "      <td>India</td>\n",
       "      <td>Bilateral</td>\n",
       "      <td>2010</td>\n",
       "      <td>276</td>\n",
       "      <td>10</td>\n",
       "      <td>No</td>\n",
       "      <td>Yes</td>\n",
       "      <td>Yes</td>\n",
       "      <td>No</td>\n",
       "    </tr>\n",
       "    <tr>\n",
       "      <th>5</th>\n",
       "      <td>ODI</td>\n",
       "      <td>1</td>\n",
       "      <td>4</td>\n",
       "      <td>100</td>\n",
       "      <td>83</td>\n",
       "      <td>120.481928</td>\n",
       "      <td>Bangladesh</td>\n",
       "      <td>Mirpur</td>\n",
       "      <td>Bangladesh</td>\n",
       "      <td>World Cup</td>\n",
       "      <td>2011</td>\n",
       "      <td>370</td>\n",
       "      <td>4</td>\n",
       "      <td>Yes</td>\n",
       "      <td>No</td>\n",
       "      <td>Yes</td>\n",
       "      <td>No</td>\n",
       "    </tr>\n",
       "    <tr>\n",
       "      <th>6</th>\n",
       "      <td>ODI</td>\n",
       "      <td>1</td>\n",
       "      <td>4</td>\n",
       "      <td>107</td>\n",
       "      <td>93</td>\n",
       "      <td>115.053763</td>\n",
       "      <td>England</td>\n",
       "      <td>Cardiff</td>\n",
       "      <td>England</td>\n",
       "      <td>Bilateral</td>\n",
       "      <td>2011</td>\n",
       "      <td>304</td>\n",
       "      <td>6</td>\n",
       "      <td>No</td>\n",
       "      <td>No</td>\n",
       "      <td>No</td>\n",
       "      <td>No</td>\n",
       "    </tr>\n",
       "    <tr>\n",
       "      <th>7</th>\n",
       "      <td>ODI</td>\n",
       "      <td>2</td>\n",
       "      <td>4</td>\n",
       "      <td>112</td>\n",
       "      <td>98</td>\n",
       "      <td>114.285714</td>\n",
       "      <td>England</td>\n",
       "      <td>Delhi</td>\n",
       "      <td>India</td>\n",
       "      <td>Bilateral</td>\n",
       "      <td>2011</td>\n",
       "      <td>238</td>\n",
       "      <td>2</td>\n",
       "      <td>Yes</td>\n",
       "      <td>Yes</td>\n",
       "      <td>Yes</td>\n",
       "      <td>No</td>\n",
       "    </tr>\n",
       "    <tr>\n",
       "      <th>8</th>\n",
       "      <td>ODI</td>\n",
       "      <td>2</td>\n",
       "      <td>4</td>\n",
       "      <td>117</td>\n",
       "      <td>123</td>\n",
       "      <td>95.121951</td>\n",
       "      <td>West Indies</td>\n",
       "      <td>Vizag</td>\n",
       "      <td>India</td>\n",
       "      <td>Bilateral</td>\n",
       "      <td>2011</td>\n",
       "      <td>270</td>\n",
       "      <td>5</td>\n",
       "      <td>No</td>\n",
       "      <td>Yes</td>\n",
       "      <td>Yes</td>\n",
       "      <td>No</td>\n",
       "    </tr>\n",
       "    <tr>\n",
       "      <th>9</th>\n",
       "      <td>Test</td>\n",
       "      <td>2</td>\n",
       "      <td>6</td>\n",
       "      <td>116</td>\n",
       "      <td>213</td>\n",
       "      <td>54.460094</td>\n",
       "      <td>Australia</td>\n",
       "      <td>Adelaide</td>\n",
       "      <td>Australia</td>\n",
       "      <td>Bilateral</td>\n",
       "      <td>2012</td>\n",
       "      <td>272</td>\n",
       "      <td>10</td>\n",
       "      <td>No</td>\n",
       "      <td>No</td>\n",
       "      <td>No</td>\n",
       "      <td>No</td>\n",
       "    </tr>\n",
       "    <tr>\n",
       "      <th>10</th>\n",
       "      <td>ODI</td>\n",
       "      <td>2</td>\n",
       "      <td>4</td>\n",
       "      <td>133</td>\n",
       "      <td>86</td>\n",
       "      <td>154.651163</td>\n",
       "      <td>Sri Lanka</td>\n",
       "      <td>Hobart</td>\n",
       "      <td>Australia</td>\n",
       "      <td>Tri-Series</td>\n",
       "      <td>2012</td>\n",
       "      <td>320</td>\n",
       "      <td>4</td>\n",
       "      <td>Yes</td>\n",
       "      <td>Yes</td>\n",
       "      <td>Yes</td>\n",
       "      <td>No</td>\n",
       "    </tr>\n",
       "  </tbody>\n",
       "</table>\n",
       "</div>"
      ],
      "text/plain": [
       "       Format  Inning Position  Score  Balls  Strike Rate      Against  \\\n",
       "Number                                                                   \n",
       "1         ODI       2        4    107    114    93.859649    Sri Lanka   \n",
       "2         ODI       2        3    102     95   107.368421   Bangladesh   \n",
       "3         ODI       2        3    118    121    97.520661    Australia   \n",
       "4         ODI       1        3    105    104   100.961539  New Zealand   \n",
       "5         ODI       1        4    100     83   120.481928   Bangladesh   \n",
       "6         ODI       1        4    107     93   115.053763      England   \n",
       "7         ODI       2        4    112     98   114.285714      England   \n",
       "8         ODI       2        4    117    123    95.121951  West Indies   \n",
       "9        Test       2        6    116    213    54.460094    Australia   \n",
       "10        ODI       2        4    133     86   154.651163    Sri Lanka   \n",
       "\n",
       "           Venue Host Nation      Series  Year  Team Total  Wickets lost  \\\n",
       "Number                                                                     \n",
       "1        Kolkata       India   Bilateral  2009         316             3   \n",
       "2         Mirpur  Bangladesh  Tri-Series  2010         249             4   \n",
       "3          Vizag       India   Bilateral  2010         292             5   \n",
       "4       Guwahati       India   Bilateral  2010         276            10   \n",
       "5         Mirpur  Bangladesh   World Cup  2011         370             4   \n",
       "6        Cardiff     England   Bilateral  2011         304             6   \n",
       "7          Delhi       India   Bilateral  2011         238             2   \n",
       "8          Vizag       India   Bilateral  2011         270             5   \n",
       "9       Adelaide   Australia   Bilateral  2012         272            10   \n",
       "10        Hobart   Australia  Tri-Series  2012         320             4   \n",
       "\n",
       "       Not Out MOTM  Win Captain  \n",
       "Number                            \n",
       "1           No   No  Yes      No  \n",
       "2          Yes  Yes  Yes      No  \n",
       "3           No  Yes  Yes      No  \n",
       "4           No  Yes  Yes      No  \n",
       "5          Yes   No  Yes      No  \n",
       "6           No   No   No      No  \n",
       "7          Yes  Yes  Yes      No  \n",
       "8           No  Yes  Yes      No  \n",
       "9           No   No   No      No  \n",
       "10         Yes  Yes  Yes      No  "
      ]
     },
     "execution_count": 8,
     "metadata": {},
     "output_type": "execute_result"
    }
   ],
   "source": [
    "df.head(10)"
   ]
  },
  {
   "cell_type": "code",
   "execution_count": 10,
   "metadata": {},
   "outputs": [
    {
     "name": "stdout",
     "output_type": "stream",
     "text": [
      "<class 'pandas.core.frame.DataFrame'>\n",
      "Int64Index: 87 entries, 1 to 87\n",
      "Data columns (total 17 columns):\n",
      " #   Column        Non-Null Count  Dtype  \n",
      "---  ------        --------------  -----  \n",
      " 0   Format        87 non-null     object \n",
      " 1   Inning        87 non-null     int64  \n",
      " 2   Position      87 non-null     object \n",
      " 3   Score         87 non-null     int64  \n",
      " 4   Balls         87 non-null     int64  \n",
      " 5   Strike Rate   87 non-null     float64\n",
      " 6   Against       87 non-null     object \n",
      " 7   Venue         87 non-null     object \n",
      " 8   Host Nation   87 non-null     object \n",
      " 9   Series        87 non-null     object \n",
      " 10  Year          87 non-null     int64  \n",
      " 11  Team Total    87 non-null     int64  \n",
      " 12  Wickets lost  87 non-null     int64  \n",
      " 13  Not Out       87 non-null     object \n",
      " 14  MOTM          87 non-null     object \n",
      " 15  Win           87 non-null     object \n",
      " 16  Captain       87 non-null     object \n",
      "dtypes: float64(1), int64(6), object(10)\n",
      "memory usage: 12.2+ KB\n"
     ]
    }
   ],
   "source": [
    "df.info()"
   ]
  },
  {
   "cell_type": "code",
   "execution_count": 11,
   "metadata": {},
   "outputs": [
    {
     "data": {
      "text/plain": [
       "array(['ODI', 'Test', 'T20', 'T20i'], dtype=object)"
      ]
     },
     "execution_count": 11,
     "metadata": {},
     "output_type": "execute_result"
    }
   ],
   "source": [
    "df['Format'].unique()"
   ]
  },
  {
   "cell_type": "code",
   "execution_count": 13,
   "metadata": {},
   "outputs": [
    {
     "data": {
      "text/plain": [
       "1479"
      ]
     },
     "execution_count": 13,
     "metadata": {},
     "output_type": "execute_result"
    }
   ],
   "source": [
    "df.size"
   ]
  },
  {
   "cell_type": "code",
   "execution_count": 17,
   "metadata": {},
   "outputs": [
    {
     "data": {
      "text/plain": [
       "Int64Index([ 1,  2,  3,  4,  5,  6,  7,  8,  9, 10, 11, 12, 13, 14, 15, 16, 17,\n",
       "            18, 19, 20, 21, 22, 23, 24, 25, 26, 27, 28, 29, 30, 31, 32, 33, 34,\n",
       "            35, 36, 37, 38, 39, 40, 41, 42, 43, 44, 45, 46, 47, 48, 49, 50, 51,\n",
       "            52, 53, 54, 55, 56, 57, 58, 59, 60, 61, 62, 63, 64, 65, 66, 67, 68,\n",
       "            69, 70, 71, 72, 73, 74, 75, 76, 77, 78, 79, 80, 81, 82, 83, 84, 85,\n",
       "            86, 87],\n",
       "           dtype='int64', name='Number')"
      ]
     },
     "execution_count": 17,
     "metadata": {},
     "output_type": "execute_result"
    }
   ],
   "source": [
    "df.index"
   ]
  },
  {
   "cell_type": "code",
   "execution_count": 18,
   "metadata": {},
   "outputs": [],
   "source": [
    "import matplotlib.pyplot as plt"
   ]
  },
  {
   "cell_type": "code",
   "execution_count": 21,
   "metadata": {},
   "outputs": [
    {
     "data": {
      "text/plain": [
       "(array([50.,  0.,  0., 29.,  0.,  0.,  7.,  0.,  0.,  1.]),\n",
       " array([0. , 0.3, 0.6, 0.9, 1.2, 1.5, 1.8, 2.1, 2.4, 2.7, 3. ]),\n",
       " <BarContainer object of 10 artists>)"
      ]
     },
     "execution_count": 21,
     "metadata": {},
     "output_type": "execute_result"
    },
    {
     "data": {
      "image/png": "[encoded data removed]",
      "text/plain": [
       "<Figure size 640x480 with 1 Axes>"
      ]
     },
     "metadata": {},
     "output_type": "display_data"
    }
   ],
   "source": [
    "plt.hist(df['Format'])"
   ]
  },
  {
   "cell_type": "code",
   "execution_count": 36,
   "metadata": {},
   "outputs": [
    {
     "data": {
      "text/plain": [
       "<BarContainer object of 87 artists>"
      ]
     },
     "execution_count": 36,
     "metadata": {},
     "output_type": "execute_result"
    },
    {
     "data": {
      "image/png": "[encoded data removed]",
      "text/plain": [
       "<Figure size 640x480 with 1 Axes>"
      ]
     },
     "metadata": {},
     "output_type": "display_data"
    }
   ],
   "source": [
    "plt.bar(df['Year'],df['Score'])"
   ]
  },
  {
   "cell_type": "code",
   "execution_count": 22,
   "metadata": {},
   "outputs": [
    {
     "data": {
      "text/plain": [
       "(array([43.,  6.,  3., 11.,  7.,  6.,  1.,  5.,  4.,  1.]),\n",
       " array([0. , 0.9, 1.8, 2.7, 3.6, 4.5, 5.4, 6.3, 7.2, 8.1, 9. ]),\n",
       " <BarContainer object of 10 artists>)"
      ]
     },
     "execution_count": 22,
     "metadata": {},
     "output_type": "execute_result"
    },
    {
     "data": {
      "image/png": "[encoded data removed]",
      "text/plain": [
       "<Figure size 640x480 with 1 Axes>"
      ]
     },
     "metadata": {},
     "output_type": "display_data"
    }
   ],
   "source": [
    "plt.hist(df['Host Nation'])"
   ]
  },
  {
   "cell_type": "code",
   "execution_count": 23,
   "metadata": {},
   "outputs": [
    {
     "data": {
      "text/plain": [
       "(array([32.,  0., 43.,  0.,  0.,  1.,  0.,  3.,  0.,  8.]),\n",
       " array([0. , 0.4, 0.8, 1.2, 1.6, 2. , 2.4, 2.8, 3.2, 3.6, 4. ]),\n",
       " <BarContainer object of 10 artists>)"
      ]
     },
     "execution_count": 23,
     "metadata": {},
     "output_type": "execute_result"
    },
    {
     "data": {
      "image/png": "[encoded data removed]",
      "text/plain": [
       "<Figure size 640x480 with 1 Axes>"
      ]
     },
     "metadata": {},
     "output_type": "display_data"
    }
   ],
   "source": [
    "plt.hist(df['Position'])"
   ]
  },
  {
   "cell_type": "code",
   "execution_count": 25,
   "metadata": {},
   "outputs": [
    {
     "data": {
      "text/plain": [
       "{'whiskers': [<matplotlib.lines.Line2D at 0x1b0ab59b690>,\n",
       "  <matplotlib.lines.Line2D at 0x1b0aee2d050>],\n",
       " 'caps': [<matplotlib.lines.Line2D at 0x1b0aee2d950>,\n",
       "  <matplotlib.lines.Line2D at 0x1b0aee2e390>],\n",
       " 'boxes': [<matplotlib.lines.Line2D at 0x1b0ada02e10>],\n",
       " 'medians': [<matplotlib.lines.Line2D at 0x1b0aee2ecd0>],\n",
       " 'fliers': [<matplotlib.lines.Line2D at 0x1b0aee2f2d0>],\n",
       " 'means': []}"
      ]
     },
     "execution_count": 25,
     "metadata": {},
     "output_type": "execute_result"
    },
    {
     "data": {
      "image/png": "[encoded data removed]",
      "text/plain": [
       "<Figure size 640x480 with 1 Axes>"
      ]
     },
     "metadata": {},
     "output_type": "display_data"
    }
   ],
   "source": [
    "plt.boxplot(df['Balls'])"
   ]
  },
  {
   "cell_type": "code",
   "execution_count": 26,
   "metadata": {},
   "outputs": [
    {
     "data": {
      "text/plain": [
       "Number\n",
       "1     114\n",
       "2      95\n",
       "3     121\n",
       "4     104\n",
       "5      83\n",
       "     ... \n",
       "83    206\n",
       "84     94\n",
       "85     97\n",
       "86    121\n",
       "87    112\n",
       "Name: Balls, Length: 87, dtype: int64"
      ]
     },
     "execution_count": 26,
     "metadata": {},
     "output_type": "execute_result"
    }
   ],
   "source": [
    "df['Balls']"
   ]
  },
  {
   "cell_type": "code",
   "execution_count": 28,
   "metadata": {},
   "outputs": [
    {
     "data": {
      "text/plain": [
       "<matplotlib.collections.PathCollection at 0x1b0ad5fc550>"
      ]
     },
     "execution_count": 28,
     "metadata": {},
     "output_type": "execute_result"
    },
    {
     "data": {
      "image/png": "[encoded data removed]",
      "text/plain": [
       "<Figure size 640x480 with 1 Axes>"
      ]
     },
     "metadata": {},
     "output_type": "display_data"
    }
   ],
   "source": [
    "plt.scatter(df['Balls'],df['Score'])"
   ]
  },
  {
   "cell_type": "code",
   "execution_count": 30,
   "metadata": {},
   "outputs": [
    {
     "data": {
      "text/plain": [
       "array(['ODI'], dtype=object)"
      ]
     },
     "execution_count": 30,
     "metadata": {},
     "output_type": "execute_result"
    }
   ],
   "source": [
    "df1=df[df['Format']=='ODI']\n",
    "df1['Format'].unique()"
   ]
  },
  {
   "cell_type": "code",
   "execution_count": 31,
   "metadata": {},
   "outputs": [],
   "source": [
    "df2=df[df['Format']=='T20']"
   ]
  },
  {
   "cell_type": "code",
   "execution_count": 32,
   "metadata": {},
   "outputs": [
    {
     "data": {
      "text/plain": [
       "array(['T20'], dtype=object)"
      ]
     },
     "execution_count": 32,
     "metadata": {},
     "output_type": "execute_result"
    }
   ],
   "source": [
    "df2['Format'].unique()"
   ]
  },
  {
   "cell_type": "code",
   "execution_count": 33,
   "metadata": {},
   "outputs": [],
   "source": [
    "df3=df[df['Format']=='Test']"
   ]
  },
  {
   "cell_type": "code",
   "execution_count": 34,
   "metadata": {},
   "outputs": [
    {
     "data": {
      "text/plain": [
       "array(['Test'], dtype=object)"
      ]
     },
     "execution_count": 34,
     "metadata": {},
     "output_type": "execute_result"
    }
   ],
   "source": [
    "df3['Format'].unique()"
   ]
  },
  {
   "cell_type": "code",
   "execution_count": 35,
   "metadata": {},
   "outputs": [
    {
     "data": {
      "text/html": [
       "<div>\n",
       "<style scoped>\n",
       "    .dataframe tbody tr th:only-of-type {\n",
       "        vertical-align: middle;\n",
       "    }\n",
       "\n",
       "    .dataframe tbody tr th {\n",
       "        vertical-align: top;\n",
       "    }\n",
       "\n",
       "    .dataframe thead th {\n",
       "        text-align: right;\n",
       "    }\n",
       "</style>\n",
       "<table border=\"1\" class=\"dataframe\">\n",
       "  <thead>\n",
       "    <tr style=\"text-align: right;\">\n",
       "      <th></th>\n",
       "      <th>Format</th>\n",
       "      <th>Inning</th>\n",
       "      <th>Position</th>\n",
       "      <th>Score</th>\n",
       "      <th>Balls</th>\n",
       "      <th>Strike Rate</th>\n",
       "      <th>Against</th>\n",
       "      <th>Venue</th>\n",
       "      <th>Host Nation</th>\n",
       "      <th>Series</th>\n",
       "      <th>Year</th>\n",
       "      <th>Team Total</th>\n",
       "      <th>Wickets lost</th>\n",
       "      <th>Not Out</th>\n",
       "      <th>MOTM</th>\n",
       "      <th>Win</th>\n",
       "      <th>Captain</th>\n",
       "    </tr>\n",
       "    <tr>\n",
       "      <th>Number</th>\n",
       "      <th></th>\n",
       "      <th></th>\n",
       "      <th></th>\n",
       "      <th></th>\n",
       "      <th></th>\n",
       "      <th></th>\n",
       "      <th></th>\n",
       "      <th></th>\n",
       "      <th></th>\n",
       "      <th></th>\n",
       "      <th></th>\n",
       "      <th></th>\n",
       "      <th></th>\n",
       "      <th></th>\n",
       "      <th></th>\n",
       "      <th></th>\n",
       "      <th></th>\n",
       "    </tr>\n",
       "  </thead>\n",
       "  <tbody>\n",
       "    <tr>\n",
       "      <th>1</th>\n",
       "      <td>ODI</td>\n",
       "      <td>2</td>\n",
       "      <td>4</td>\n",
       "      <td>107</td>\n",
       "      <td>114</td>\n",
       "      <td>93.859649</td>\n",
       "      <td>Sri Lanka</td>\n",
       "      <td>Kolkata</td>\n",
       "      <td>India</td>\n",
       "      <td>Bilateral</td>\n",
       "      <td>2009</td>\n",
       "      <td>316</td>\n",
       "      <td>3</td>\n",
       "      <td>No</td>\n",
       "      <td>No</td>\n",
       "      <td>Yes</td>\n",
       "      <td>No</td>\n",
       "    </tr>\n",
       "    <tr>\n",
       "      <th>2</th>\n",
       "      <td>ODI</td>\n",
       "      <td>2</td>\n",
       "      <td>3</td>\n",
       "      <td>102</td>\n",
       "      <td>95</td>\n",
       "      <td>107.368421</td>\n",
       "      <td>Bangladesh</td>\n",
       "      <td>Mirpur</td>\n",
       "      <td>Bangladesh</td>\n",
       "      <td>Tri-Series</td>\n",
       "      <td>2010</td>\n",
       "      <td>249</td>\n",
       "      <td>4</td>\n",
       "      <td>Yes</td>\n",
       "      <td>Yes</td>\n",
       "      <td>Yes</td>\n",
       "      <td>No</td>\n",
       "    </tr>\n",
       "    <tr>\n",
       "      <th>3</th>\n",
       "      <td>ODI</td>\n",
       "      <td>2</td>\n",
       "      <td>3</td>\n",
       "      <td>118</td>\n",
       "      <td>121</td>\n",
       "      <td>97.520661</td>\n",
       "      <td>Australia</td>\n",
       "      <td>Vizag</td>\n",
       "      <td>India</td>\n",
       "      <td>Bilateral</td>\n",
       "      <td>2010</td>\n",
       "      <td>292</td>\n",
       "      <td>5</td>\n",
       "      <td>No</td>\n",
       "      <td>Yes</td>\n",
       "      <td>Yes</td>\n",
       "      <td>No</td>\n",
       "    </tr>\n",
       "    <tr>\n",
       "      <th>4</th>\n",
       "      <td>ODI</td>\n",
       "      <td>1</td>\n",
       "      <td>3</td>\n",
       "      <td>105</td>\n",
       "      <td>104</td>\n",
       "      <td>100.961539</td>\n",
       "      <td>New Zealand</td>\n",
       "      <td>Guwahati</td>\n",
       "      <td>India</td>\n",
       "      <td>Bilateral</td>\n",
       "      <td>2010</td>\n",
       "      <td>276</td>\n",
       "      <td>10</td>\n",
       "      <td>No</td>\n",
       "      <td>Yes</td>\n",
       "      <td>Yes</td>\n",
       "      <td>No</td>\n",
       "    </tr>\n",
       "    <tr>\n",
       "      <th>5</th>\n",
       "      <td>ODI</td>\n",
       "      <td>1</td>\n",
       "      <td>4</td>\n",
       "      <td>100</td>\n",
       "      <td>83</td>\n",
       "      <td>120.481928</td>\n",
       "      <td>Bangladesh</td>\n",
       "      <td>Mirpur</td>\n",
       "      <td>Bangladesh</td>\n",
       "      <td>World Cup</td>\n",
       "      <td>2011</td>\n",
       "      <td>370</td>\n",
       "      <td>4</td>\n",
       "      <td>Yes</td>\n",
       "      <td>No</td>\n",
       "      <td>Yes</td>\n",
       "      <td>No</td>\n",
       "    </tr>\n",
       "    <tr>\n",
       "      <th>6</th>\n",
       "      <td>ODI</td>\n",
       "      <td>1</td>\n",
       "      <td>4</td>\n",
       "      <td>107</td>\n",
       "      <td>93</td>\n",
       "      <td>115.053763</td>\n",
       "      <td>England</td>\n",
       "      <td>Cardiff</td>\n",
       "      <td>England</td>\n",
       "      <td>Bilateral</td>\n",
       "      <td>2011</td>\n",
       "      <td>304</td>\n",
       "      <td>6</td>\n",
       "      <td>No</td>\n",
       "      <td>No</td>\n",
       "      <td>No</td>\n",
       "      <td>No</td>\n",
       "    </tr>\n",
       "    <tr>\n",
       "      <th>7</th>\n",
       "      <td>ODI</td>\n",
       "      <td>2</td>\n",
       "      <td>4</td>\n",
       "      <td>112</td>\n",
       "      <td>98</td>\n",
       "      <td>114.285714</td>\n",
       "      <td>England</td>\n",
       "      <td>Delhi</td>\n",
       "      <td>India</td>\n",
       "      <td>Bilateral</td>\n",
       "      <td>2011</td>\n",
       "      <td>238</td>\n",
       "      <td>2</td>\n",
       "      <td>Yes</td>\n",
       "      <td>Yes</td>\n",
       "      <td>Yes</td>\n",
       "      <td>No</td>\n",
       "    </tr>\n",
       "    <tr>\n",
       "      <th>8</th>\n",
       "      <td>ODI</td>\n",
       "      <td>2</td>\n",
       "      <td>4</td>\n",
       "      <td>117</td>\n",
       "      <td>123</td>\n",
       "      <td>95.121951</td>\n",
       "      <td>West Indies</td>\n",
       "      <td>Vizag</td>\n",
       "      <td>India</td>\n",
       "      <td>Bilateral</td>\n",
       "      <td>2011</td>\n",
       "      <td>270</td>\n",
       "      <td>5</td>\n",
       "      <td>No</td>\n",
       "      <td>Yes</td>\n",
       "      <td>Yes</td>\n",
       "      <td>No</td>\n",
       "    </tr>\n",
       "    <tr>\n",
       "      <th>10</th>\n",
       "      <td>ODI</td>\n",
       "      <td>2</td>\n",
       "      <td>4</td>\n",
       "      <td>133</td>\n",
       "      <td>86</td>\n",
       "      <td>154.651163</td>\n",
       "      <td>Sri Lanka</td>\n",
       "      <td>Hobart</td>\n",
       "      <td>Australia</td>\n",
       "      <td>Tri-Series</td>\n",
       "      <td>2012</td>\n",
       "      <td>320</td>\n",
       "      <td>4</td>\n",
       "      <td>Yes</td>\n",
       "      <td>Yes</td>\n",
       "      <td>Yes</td>\n",
       "      <td>No</td>\n",
       "    </tr>\n",
       "    <tr>\n",
       "      <th>11</th>\n",
       "      <td>ODI</td>\n",
       "      <td>1</td>\n",
       "      <td>3</td>\n",
       "      <td>108</td>\n",
       "      <td>120</td>\n",
       "      <td>90.000000</td>\n",
       "      <td>Sri Lanka</td>\n",
       "      <td>Mirpur</td>\n",
       "      <td>Bangladesh</td>\n",
       "      <td>Asia Cup</td>\n",
       "      <td>2012</td>\n",
       "      <td>304</td>\n",
       "      <td>3</td>\n",
       "      <td>No</td>\n",
       "      <td>Yes</td>\n",
       "      <td>Yes</td>\n",
       "      <td>No</td>\n",
       "    </tr>\n",
       "  </tbody>\n",
       "</table>\n",
       "</div>"
      ],
      "text/plain": [
       "       Format  Inning Position  Score  Balls  Strike Rate      Against  \\\n",
       "Number                                                                   \n",
       "1         ODI       2        4    107    114    93.859649    Sri Lanka   \n",
       "2         ODI       2        3    102     95   107.368421   Bangladesh   \n",
       "3         ODI       2        3    118    121    97.520661    Australia   \n",
       "4         ODI       1        3    105    104   100.961539  New Zealand   \n",
       "5         ODI       1        4    100     83   120.481928   Bangladesh   \n",
       "6         ODI       1        4    107     93   115.053763      England   \n",
       "7         ODI       2        4    112     98   114.285714      England   \n",
       "8         ODI       2        4    117    123    95.121951  West Indies   \n",
       "10        ODI       2        4    133     86   154.651163    Sri Lanka   \n",
       "11        ODI       1        3    108    120    90.000000    Sri Lanka   \n",
       "\n",
       "           Venue Host Nation      Series  Year  Team Total  Wickets lost  \\\n",
       "Number                                                                     \n",
       "1        Kolkata       India   Bilateral  2009         316             3   \n",
       "2         Mirpur  Bangladesh  Tri-Series  2010         249             4   \n",
       "3          Vizag       India   Bilateral  2010         292             5   \n",
       "4       Guwahati       India   Bilateral  2010         276            10   \n",
       "5         Mirpur  Bangladesh   World Cup  2011         370             4   \n",
       "6        Cardiff     England   Bilateral  2011         304             6   \n",
       "7          Delhi       India   Bilateral  2011         238             2   \n",
       "8          Vizag       India   Bilateral  2011         270             5   \n",
       "10        Hobart   Australia  Tri-Series  2012         320             4   \n",
       "11        Mirpur  Bangladesh    Asia Cup  2012         304             3   \n",
       "\n",
       "       Not Out MOTM  Win Captain  \n",
       "Number                            \n",
       "1           No   No  Yes      No  \n",
       "2          Yes  Yes  Yes      No  \n",
       "3           No  Yes  Yes      No  \n",
       "4           No  Yes  Yes      No  \n",
       "5          Yes   No  Yes      No  \n",
       "6           No   No   No      No  \n",
       "7          Yes  Yes  Yes      No  \n",
       "8           No  Yes  Yes      No  \n",
       "10         Yes  Yes  Yes      No  \n",
       "11          No  Yes  Yes      No  "
      ]
     },
     "execution_count": 35,
     "metadata": {},
     "output_type": "execute_result"
    }
   ],
   "source": [
    "df1.head(10)"
   ]
  },
  {
   "cell_type": "code",
   "execution_count": 37,
   "metadata": {},
   "outputs": [
    {
     "data": {
      "text/plain": [
       "count     50.000000\n",
       "mean     120.600000\n",
       "std       18.308022\n",
       "min      100.000000\n",
       "25%      107.000000\n",
       "50%      115.500000\n",
       "75%      127.750000\n",
       "max      183.000000\n",
       "Name: Score, dtype: float64"
      ]
     },
     "execution_count": 37,
     "metadata": {},
     "output_type": "execute_result"
    }
   ],
   "source": [
    "df1.Score.describe()"
   ]
  },
  {
   "cell_type": "code",
   "execution_count": 38,
   "metadata": {},
   "outputs": [
    {
     "data": {
      "text/plain": [
       "(array([15., 11., 10.,  5.,  4.,  0.,  2.,  2.,  0.,  1.]),\n",
       " array([100. , 108.3, 116.6, 124.9, 133.2, 141.5, 149.8, 158.1, 166.4,\n",
       "        174.7, 183. ]),\n",
       " <BarContainer object of 10 artists>)"
      ]
     },
     "execution_count": 38,
     "metadata": {},
     "output_type": "execute_result"
    },
    {
     "data": {
      "image/png": "[encoded data removed]",
      "text/plain": [
       "<Figure size 640x480 with 1 Axes>"
      ]
     },
     "metadata": {},
     "output_type": "display_data"
    }
   ],
   "source": [
    "plt.hist(df1['Score'])"
   ]
  },
  {
   "cell_type": "code",
   "execution_count": 39,
   "metadata": {},
   "outputs": [
    {
     "data": {
      "text/plain": [
       "{'whiskers': [<matplotlib.lines.Line2D at 0x1b0af254650>,\n",
       "  <matplotlib.lines.Line2D at 0x1b0af254fd0>],\n",
       " 'caps': [<matplotlib.lines.Line2D at 0x1b0af058b90>,\n",
       "  <matplotlib.lines.Line2D at 0x1b0af256090>],\n",
       " 'boxes': [<matplotlib.lines.Line2D at 0x1b0af243e10>],\n",
       " 'medians': [<matplotlib.lines.Line2D at 0x1b0af256750>],\n",
       " 'fliers': [<matplotlib.lines.Line2D at 0x1b0aef4fe90>],\n",
       " 'means': []}"
      ]
     },
     "execution_count": 39,
     "metadata": {},
     "output_type": "execute_result"
    },
    {
     "data": {
      "image/png": "[encoded data removed]",
      "text/plain": [
       "<Figure size 640x480 with 1 Axes>"
      ]
     },
     "metadata": {},
     "output_type": "display_data"
    }
   ],
   "source": [
    "plt.boxplot(df['Score'])"
   ]
  },
  {
   "cell_type": "code",
   "execution_count": 42,
   "metadata": {},
   "outputs": [],
   "source": [
    "df12=df1[df1['Score']<=183]"
   ]
  },
  {
   "cell_type": "code",
   "execution_count": 45,
   "metadata": {},
   "outputs": [
    {
     "data": {
      "text/plain": [
       "{'whiskers': [<matplotlib.lines.Line2D at 0x1b0af161690>,\n",
       "  <matplotlib.lines.Line2D at 0x1b0af161f10>],\n",
       " 'caps': [<matplotlib.lines.Line2D at 0x1b0af162890>,\n",
       "  <matplotlib.lines.Line2D at 0x1b0af163090>],\n",
       " 'boxes': [<matplotlib.lines.Line2D at 0x1b0af160dd0>],\n",
       " 'medians': [<matplotlib.lines.Line2D at 0x1b0af163a50>],\n",
       " 'fliers': [<matplotlib.lines.Line2D at 0x1b0af0f7190>],\n",
       " 'means': []}"
      ]
     },
     "execution_count": 45,
     "metadata": {},
     "output_type": "execute_result"
    },
    {
     "data": {
      "image/png": "[encoded data removed]",
      "text/plain": [
       "<Figure size 640x480 with 1 Axes>"
      ]
     },
     "metadata": {},
     "output_type": "display_data"
    }
   ],
   "source": [
    "plt.boxplot(df12['Score'])"
   ]
  },
  {
   "cell_type": "code",
   "execution_count": 44,
   "metadata": {},
   "outputs": [
    {
     "data": {
      "text/plain": [
       "count     50.000000\n",
       "mean     120.600000\n",
       "std       18.308022\n",
       "min      100.000000\n",
       "25%      107.000000\n",
       "50%      115.500000\n",
       "75%      127.750000\n",
       "max      183.000000\n",
       "Name: Score, dtype: float64"
      ]
     },
     "execution_count": 44,
     "metadata": {},
     "output_type": "execute_result"
    }
   ],
   "source": [
    "df12['Score'].describe()"
   ]
  },
  {
   "cell_type": "code",
   "execution_count": 48,
   "metadata": {},
   "outputs": [
    {
     "data": {
      "text/plain": [
       "Number\n",
       "1     107\n",
       "2     102\n",
       "3     118\n",
       "4     105\n",
       "5     100\n",
       "6     107\n",
       "7     112\n",
       "8     117\n",
       "10    133\n",
       "11    108\n",
       "12    183\n",
       "13    106\n",
       "14    128\n",
       "18    102\n",
       "19    115\n",
       "20    100\n",
       "21    115\n",
       "23    123\n",
       "25    136\n",
       "26    127\n",
       "27    139\n",
       "32    107\n",
       "34    138\n",
       "35    117\n",
       "36    106\n",
       "43    154\n",
       "46    122\n",
       "48    111\n",
       "50    131\n",
       "51    110\n",
       "52    121\n",
       "53    113\n",
       "58    112\n",
       "59    160\n",
       "60    129\n",
       "64    140\n",
       "65    157\n",
       "66    107\n",
       "68    104\n",
       "69    116\n",
       "70    123\n",
       "72    120\n",
       "73    114\n",
       "77    113\n",
       "78    113\n",
       "79    166\n",
       "84    122\n",
       "85    103\n",
       "86    101\n",
       "87    117\n",
       "Name: Score, dtype: int64"
      ]
     },
     "execution_count": 48,
     "metadata": {},
     "output_type": "execute_result"
    }
   ],
   "source": [
    "df12['Score']"
   ]
  },
  {
   "cell_type": "code",
   "execution_count": 49,
   "metadata": {},
   "outputs": [],
   "source": [
    "df4=df12[df12['Score']<=120]"
   ]
  },
  {
   "cell_type": "code",
   "execution_count": 51,
   "metadata": {},
   "outputs": [
    {
     "data": {
      "text/plain": [
       "count     31.000000\n",
       "mean     109.612903\n",
       "std        5.874677\n",
       "min      100.000000\n",
       "25%      105.500000\n",
       "50%      110.000000\n",
       "75%      114.500000\n",
       "max      120.000000\n",
       "Name: Score, dtype: float64"
      ]
     },
     "execution_count": 51,
     "metadata": {},
     "output_type": "execute_result"
    }
   ],
   "source": [
    "df4['Score'].describe()"
   ]
  },
  {
   "cell_type": "code",
   "execution_count": 52,
   "metadata": {},
   "outputs": [
    {
     "data": {
      "text/plain": [
       "{'whiskers': [<matplotlib.lines.Line2D at 0x1b0b02fad50>,\n",
       "  <matplotlib.lines.Line2D at 0x1b0b02fae90>],\n",
       " 'caps': [<matplotlib.lines.Line2D at 0x1b0b02fb790>,\n",
       "  <matplotlib.lines.Line2D at 0x1b0b02f9310>],\n",
       " 'boxes': [<matplotlib.lines.Line2D at 0x1b0b02fa910>],\n",
       " 'medians': [<matplotlib.lines.Line2D at 0x1b0b02f8850>],\n",
       " 'fliers': [<matplotlib.lines.Line2D at 0x1b0af128650>],\n",
       " 'means': []}"
      ]
     },
     "execution_count": 52,
     "metadata": {},
     "output_type": "execute_result"
    },
    {
     "data": {
      "image/png": "[encoded data removed]",
      "text/plain": [
       "<Figure size 640x480 with 1 Axes>"
      ]
     },
     "metadata": {},
     "output_type": "display_data"
    }
   ],
   "source": [
    "plt.boxplot(df4['Score'])"
   ]
  },
  {
   "cell_type": "code",
   "execution_count": 64,
   "metadata": {},
   "outputs": [
    {
     "data": {
      "text/plain": [
       "Format          16\n",
       "Inning          16\n",
       "Position        16\n",
       "Score           16\n",
       "Balls           16\n",
       "Strike Rate     16\n",
       "Against         16\n",
       "Venue           16\n",
       "Host Nation     16\n",
       "Series          16\n",
       "Year            16\n",
       "Team Total      16\n",
       "Wickets lost    16\n",
       "Not Out         16\n",
       "MOTM            16\n",
       "Win             16\n",
       "Captain         16\n",
       "dtype: int64"
      ]
     },
     "execution_count": 64,
     "metadata": {},
     "output_type": "execute_result"
    }
   ],
   "source": [
    "df4[df4['Score']>=110].count()"
   ]
  },
  {
   "cell_type": "code",
   "execution_count": 60,
   "metadata": {},
   "outputs": [
    {
     "data": {
      "text/plain": [
       "Format          31\n",
       "Inning          31\n",
       "Position        31\n",
       "Score           31\n",
       "Balls           31\n",
       "Strike Rate     31\n",
       "Against         31\n",
       "Venue           31\n",
       "Host Nation     31\n",
       "Series          31\n",
       "Year            31\n",
       "Team Total      31\n",
       "Wickets lost    31\n",
       "Not Out         31\n",
       "MOTM            31\n",
       "Win             31\n",
       "Captain         31\n",
       "dtype: int64"
      ]
     },
     "execution_count": 60,
     "metadata": {},
     "output_type": "execute_result"
    }
   ],
   "source": [
    "df4.count()"
   ]
  },
  {
   "cell_type": "code",
   "execution_count": 61,
   "metadata": {},
   "outputs": [
    {
     "data": {
      "text/plain": [
       "Format          50\n",
       "Inning          50\n",
       "Position        50\n",
       "Score           50\n",
       "Balls           50\n",
       "Strike Rate     50\n",
       "Against         50\n",
       "Venue           50\n",
       "Host Nation     50\n",
       "Series          50\n",
       "Year            50\n",
       "Team Total      50\n",
       "Wickets lost    50\n",
       "Not Out         50\n",
       "MOTM            50\n",
       "Win             50\n",
       "Captain         50\n",
       "dtype: int64"
      ]
     },
     "execution_count": 61,
     "metadata": {},
     "output_type": "execute_result"
    }
   ],
   "source": [
    "df12.count()"
   ]
  },
  {
   "cell_type": "code",
   "execution_count": 62,
   "metadata": {},
   "outputs": [
    {
     "data": {
      "text/plain": [
       "count     50.000000\n",
       "mean     120.600000\n",
       "std       18.308022\n",
       "min      100.000000\n",
       "25%      107.000000\n",
       "50%      115.500000\n",
       "75%      127.750000\n",
       "max      183.000000\n",
       "Name: Score, dtype: float64"
      ]
     },
     "execution_count": 62,
     "metadata": {},
     "output_type": "execute_result"
    }
   ],
   "source": [
    "df12['Score'].describe()"
   ]
  },
  {
   "cell_type": "code",
   "execution_count": 63,
   "metadata": {},
   "outputs": [
    {
     "data": {
      "text/plain": [
       "Format          3\n",
       "Inning          3\n",
       "Position        3\n",
       "Score           3\n",
       "Balls           3\n",
       "Strike Rate     3\n",
       "Against         3\n",
       "Venue           3\n",
       "Host Nation     3\n",
       "Series          3\n",
       "Year            3\n",
       "Team Total      3\n",
       "Wickets lost    3\n",
       "Not Out         3\n",
       "MOTM            3\n",
       "Win             3\n",
       "Captain         3\n",
       "dtype: int64"
      ]
     },
     "execution_count": 63,
     "metadata": {},
     "output_type": "execute_result"
    }
   ],
   "source": [
    "df12[df12['Score']>=160].count()"
   ]
  },
  {
   "cell_type": "code",
   "execution_count": 65,
   "metadata": {},
   "outputs": [
    {
     "data": {
      "text/plain": [
       "Format          35\n",
       "Inning          35\n",
       "Position        35\n",
       "Score           35\n",
       "Balls           35\n",
       "Strike Rate     35\n",
       "Against         35\n",
       "Venue           35\n",
       "Host Nation     35\n",
       "Series          35\n",
       "Year            35\n",
       "Team Total      35\n",
       "Wickets lost    35\n",
       "Not Out         35\n",
       "MOTM            35\n",
       "Win             35\n",
       "Captain         35\n",
       "dtype: int64"
      ]
     },
     "execution_count": 65,
     "metadata": {},
     "output_type": "execute_result"
    }
   ],
   "source": [
    "df12[df12['Score']>=110].count()"
   ]
  },
  {
   "cell_type": "code",
   "execution_count": null,
   "metadata": {},
   "outputs": [],
   "source": []
  }
 ],
 "metadata": {
  "kernelspec": {
   "display_name": "Python 3",
   "language": "python",
   "name": "python3"
  },
  "language_info": {
   "codemirror_mode": {
    "name": "ipython",
    "version": 3
   },
   "file_extension": ".py",
   "mimetype": "text/x-python",
   "name": "python",
   "nbconvert_exporter": "python",
   "pygments_lexer": "ipython3",
   "version": "3.11.2"
  }
 },
 "nbformat": 4,
 "nbformat_minor": 2
}
