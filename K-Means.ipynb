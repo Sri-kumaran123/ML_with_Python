{
 "cells": [
  {
   "cell_type": "code",
   "execution_count": 1,
   "metadata": {},
   "outputs": [],
   "source": [
    "import pandas as pd"
   ]
  },
  {
   "cell_type": "code",
   "execution_count": 6,
   "metadata": {},
   "outputs": [
    {
     "data": {
      "text/html": [
       "<div>\n",
       "<style scoped>\n",
       "    .dataframe tbody tr th:only-of-type {\n",
       "        vertical-align: middle;\n",
       "    }\n",
       "\n",
       "    .dataframe tbody tr th {\n",
       "        vertical-align: top;\n",
       "    }\n",
       "\n",
       "    .dataframe thead th {\n",
       "        text-align: right;\n",
       "    }\n",
       "</style>\n",
       "<table border=\"1\" class=\"dataframe\">\n",
       "  <thead>\n",
       "    <tr style=\"text-align: right;\">\n",
       "      <th></th>\n",
       "      <th>Number</th>\n",
       "      <th>Format</th>\n",
       "      <th>Inning</th>\n",
       "      <th>Position</th>\n",
       "      <th>Score</th>\n",
       "      <th>Balls</th>\n",
       "      <th>Strike Rate</th>\n",
       "      <th>Against</th>\n",
       "      <th>Venue</th>\n",
       "      <th>Host Nation</th>\n",
       "      <th>Series</th>\n",
       "      <th>Year</th>\n",
       "      <th>Team Total</th>\n",
       "      <th>Wickets lost</th>\n",
       "      <th>Not Out</th>\n",
       "      <th>MOTM</th>\n",
       "      <th>Win</th>\n",
       "      <th>Captain</th>\n",
       "    </tr>\n",
       "  </thead>\n",
       "  <tbody>\n",
       "    <tr>\n",
       "      <th>0</th>\n",
       "      <td>1</td>\n",
       "      <td>ODI</td>\n",
       "      <td>2</td>\n",
       "      <td>4</td>\n",
       "      <td>107</td>\n",
       "      <td>114</td>\n",
       "      <td>93.859649</td>\n",
       "      <td>Sri Lanka</td>\n",
       "      <td>Kolkata</td>\n",
       "      <td>India</td>\n",
       "      <td>Bilateral</td>\n",
       "      <td>2009</td>\n",
       "      <td>316</td>\n",
       "      <td>3</td>\n",
       "      <td>No</td>\n",
       "      <td>No</td>\n",
       "      <td>Yes</td>\n",
       "      <td>No</td>\n",
       "    </tr>\n",
       "    <tr>\n",
       "      <th>1</th>\n",
       "      <td>2</td>\n",
       "      <td>ODI</td>\n",
       "      <td>2</td>\n",
       "      <td>3</td>\n",
       "      <td>102</td>\n",
       "      <td>95</td>\n",
       "      <td>107.368421</td>\n",
       "      <td>Bangladesh</td>\n",
       "      <td>Mirpur</td>\n",
       "      <td>Bangladesh</td>\n",
       "      <td>Tri-Series</td>\n",
       "      <td>2010</td>\n",
       "      <td>249</td>\n",
       "      <td>4</td>\n",
       "      <td>Yes</td>\n",
       "      <td>Yes</td>\n",
       "      <td>Yes</td>\n",
       "      <td>No</td>\n",
       "    </tr>\n",
       "    <tr>\n",
       "      <th>2</th>\n",
       "      <td>3</td>\n",
       "      <td>ODI</td>\n",
       "      <td>2</td>\n",
       "      <td>3</td>\n",
       "      <td>118</td>\n",
       "      <td>121</td>\n",
       "      <td>97.520661</td>\n",
       "      <td>Australia</td>\n",
       "      <td>Vizag</td>\n",
       "      <td>India</td>\n",
       "      <td>Bilateral</td>\n",
       "      <td>2010</td>\n",
       "      <td>292</td>\n",
       "      <td>5</td>\n",
       "      <td>No</td>\n",
       "      <td>Yes</td>\n",
       "      <td>Yes</td>\n",
       "      <td>No</td>\n",
       "    </tr>\n",
       "    <tr>\n",
       "      <th>3</th>\n",
       "      <td>4</td>\n",
       "      <td>ODI</td>\n",
       "      <td>1</td>\n",
       "      <td>3</td>\n",
       "      <td>105</td>\n",
       "      <td>104</td>\n",
       "      <td>100.961539</td>\n",
       "      <td>New Zealand</td>\n",
       "      <td>Guwahati</td>\n",
       "      <td>India</td>\n",
       "      <td>Bilateral</td>\n",
       "      <td>2010</td>\n",
       "      <td>276</td>\n",
       "      <td>10</td>\n",
       "      <td>No</td>\n",
       "      <td>Yes</td>\n",
       "      <td>Yes</td>\n",
       "      <td>No</td>\n",
       "    </tr>\n",
       "    <tr>\n",
       "      <th>4</th>\n",
       "      <td>5</td>\n",
       "      <td>ODI</td>\n",
       "      <td>1</td>\n",
       "      <td>4</td>\n",
       "      <td>100</td>\n",
       "      <td>83</td>\n",
       "      <td>120.481928</td>\n",
       "      <td>Bangladesh</td>\n",
       "      <td>Mirpur</td>\n",
       "      <td>Bangladesh</td>\n",
       "      <td>World Cup</td>\n",
       "      <td>2011</td>\n",
       "      <td>370</td>\n",
       "      <td>4</td>\n",
       "      <td>Yes</td>\n",
       "      <td>No</td>\n",
       "      <td>Yes</td>\n",
       "      <td>No</td>\n",
       "    </tr>\n",
       "  </tbody>\n",
       "</table>\n",
       "</div>"
      ],
      "text/plain": [
       "   Number Format  Inning Position  Score  Balls  Strike Rate      Against  \\\n",
       "0       1    ODI       2        4    107    114    93.859649    Sri Lanka   \n",
       "1       2    ODI       2        3    102     95   107.368421   Bangladesh   \n",
       "2       3    ODI       2        3    118    121    97.520661    Australia   \n",
       "3       4    ODI       1        3    105    104   100.961539  New Zealand   \n",
       "4       5    ODI       1        4    100     83   120.481928   Bangladesh   \n",
       "\n",
       "      Venue Host Nation      Series  Year  Team Total  Wickets lost Not Out  \\\n",
       "0   Kolkata       India   Bilateral  2009         316             3      No   \n",
       "1    Mirpur  Bangladesh  Tri-Series  2010         249             4     Yes   \n",
       "2     Vizag       India   Bilateral  2010         292             5      No   \n",
       "3  Guwahati       India   Bilateral  2010         276            10      No   \n",
       "4    Mirpur  Bangladesh   World Cup  2011         370             4     Yes   \n",
       "\n",
       "  MOTM  Win Captain  \n",
       "0   No  Yes      No  \n",
       "1  Yes  Yes      No  \n",
       "2  Yes  Yes      No  \n",
       "3  Yes  Yes      No  \n",
       "4   No  Yes      No  "
      ]
     },
     "execution_count": 6,
     "metadata": {},
     "output_type": "execute_result"
    }
   ],
   "source": [
    "df=pd.read_csv(\"VK100.csv\")\n",
    "df.head()"
   ]
  },
  {
   "cell_type": "code",
   "execution_count": 7,
   "metadata": {},
   "outputs": [],
   "source": [
    "from matplotlib import pyplot as plt"
   ]
  },
  {
   "cell_type": "code",
   "execution_count": 13,
   "metadata": {},
   "outputs": [
    {
     "data": {
      "text/plain": [
       "<matplotlib.collections.PathCollection at 0x1a499d502d0>"
      ]
     },
     "execution_count": 13,
     "metadata": {},
     "output_type": "execute_result"
    },
    {
     "data": {
      "image/png": "[encoded data removed]",
      "text/plain": [
       "<Figure size 640x480 with 1 Axes>"
      ]
     },
     "metadata": {},
     "output_type": "display_data"
    }
   ],
   "source": [
    "plt.scatter(df['Team Total'],df['Score'])"
   ]
  },
  {
   "cell_type": "code",
   "execution_count": 17,
   "metadata": {},
   "outputs": [],
   "source": [
    "from sklearn.cluster import KMeans"
   ]
  },
  {
   "cell_type": "code",
   "execution_count": 27,
   "metadata": {},
   "outputs": [
    {
     "data": {
      "text/html": [
       "<style>#sk-container-id-2 {color: black;}#sk-container-id-2 pre{padding: 0;}#sk-container-id-2 div.sk-toggleable {background-color: white;}#sk-container-id-2 label.sk-toggleable__label {cursor: pointer;display: block;width: 100%;margin-bottom: 0;padding: 0.3em;box-sizing: border-box;text-align: center;}#sk-container-id-2 label.sk-toggleable__label-arrow:before {content: \"▸\";float: left;margin-right: 0.25em;color: #696969;}#sk-container-id-2 label.sk-toggleable__label-arrow:hover:before {color: black;}#sk-container-id-2 div.sk-estimator:hover label.sk-toggleable__label-arrow:before {color: black;}#sk-container-id-2 div.sk-toggleable__content {max-height: 0;max-width: 0;overflow: hidden;text-align: left;background-color: #f0f8ff;}#sk-container-id-2 div.sk-toggleable__content pre {margin: 0.2em;color: black;border-radius: 0.25em;background-color: #f0f8ff;}#sk-container-id-2 input.sk-toggleable__control:checked~div.sk-toggleable__content {max-height: 200px;max-width: 100%;overflow: auto;}#sk-container-id-2 input.sk-toggleable__control:checked~label.sk-toggleable__label-arrow:before {content: \"▾\";}#sk-container-id-2 div.sk-estimator input.sk-toggleable__control:checked~label.sk-toggleable__label {background-color: #d4ebff;}#sk-container-id-2 div.sk-label input.sk-toggleable__control:checked~label.sk-toggleable__label {background-color: #d4ebff;}#sk-container-id-2 input.sk-hidden--visually {border: 0;clip: rect(1px 1px 1px 1px);clip: rect(1px, 1px, 1px, 1px);height: 1px;margin: -1px;overflow: hidden;padding: 0;position: absolute;width: 1px;}#sk-container-id-2 div.sk-estimator {font-family: monospace;background-color: #f0f8ff;border: 1px dotted black;border-radius: 0.25em;box-sizing: border-box;margin-bottom: 0.5em;}#sk-container-id-2 div.sk-estimator:hover {background-color: #d4ebff;}#sk-container-id-2 div.sk-parallel-item::after {content: \"\";width: 100%;border-bottom: 1px solid gray;flex-grow: 1;}#sk-container-id-2 div.sk-label:hover label.sk-toggleable__label {background-color: #d4ebff;}#sk-container-id-2 div.sk-serial::before {content: \"\";position: absolute;border-left: 1px solid gray;box-sizing: border-box;top: 0;bottom: 0;left: 50%;z-index: 0;}#sk-container-id-2 div.sk-serial {display: flex;flex-direction: column;align-items: center;background-color: white;padding-right: 0.2em;padding-left: 0.2em;position: relative;}#sk-container-id-2 div.sk-item {position: relative;z-index: 1;}#sk-container-id-2 div.sk-parallel {display: flex;align-items: stretch;justify-content: center;background-color: white;position: relative;}#sk-container-id-2 div.sk-item::before, #sk-container-id-2 div.sk-parallel-item::before {content: \"\";position: absolute;border-left: 1px solid gray;box-sizing: border-box;top: 0;bottom: 0;left: 50%;z-index: -1;}#sk-container-id-2 div.sk-parallel-item {display: flex;flex-direction: column;z-index: 1;position: relative;background-color: white;}#sk-container-id-2 div.sk-parallel-item:first-child::after {align-self: flex-end;width: 50%;}#sk-container-id-2 div.sk-parallel-item:last-child::after {align-self: flex-start;width: 50%;}#sk-container-id-2 div.sk-parallel-item:only-child::after {width: 0;}#sk-container-id-2 div.sk-dashed-wrapped {border: 1px dashed gray;margin: 0 0.4em 0.5em 0.4em;box-sizing: border-box;padding-bottom: 0.4em;background-color: white;}#sk-container-id-2 div.sk-label label {font-family: monospace;font-weight: bold;display: inline-block;line-height: 1.2em;}#sk-container-id-2 div.sk-label-container {text-align: center;}#sk-container-id-2 div.sk-container {/* jupyter's `normalize.less` sets `[hidden] { display: none; }` but bootstrap.min.css set `[hidden] { display: none !important; }` so we also need the `!important` here to be able to override the default hidden behavior on the sphinx rendered scikit-learn.org. See: https://github.com/scikit-learn/scikit-learn/issues/21755 */display: inline-block !important;position: relative;}#sk-container-id-2 div.sk-text-repr-fallback {display: none;}</style><div id=\"sk-container-id-2\" class=\"sk-top-container\"><div class=\"sk-text-repr-fallback\"><pre>KMeans(n_clusters=5)</pre><b>In a Jupyter environment, please rerun this cell to show the HTML representation or trust the notebook. <br />On GitHub, the HTML representation is unable to render, please try loading this page with nbviewer.org.</b></div><div class=\"sk-container\" hidden><div class=\"sk-item\"><div class=\"sk-estimator sk-toggleable\"><input class=\"sk-toggleable__control sk-hidden--visually\" id=\"sk-estimator-id-2\" type=\"checkbox\" checked><label for=\"sk-estimator-id-2\" class=\"sk-toggleable__label sk-toggleable__label-arrow\">KMeans</label><div class=\"sk-toggleable__content\"><pre>KMeans(n_clusters=5)</pre></div></div></div></div></div>"
      ],
      "text/plain": [
       "KMeans(n_clusters=5)"
      ]
     },
     "execution_count": 27,
     "metadata": {},
     "output_type": "execute_result"
    }
   ],
   "source": [
    "km=KMeans(n_clusters=5)\n",
    "km"
   ]
  },
  {
   "cell_type": "code",
   "execution_count": 28,
   "metadata": {},
   "outputs": [
    {
     "name": "stderr",
     "output_type": "stream",
     "text": [
      "c:\\Users\\skart\\AppData\\Local\\Programs\\Python\\Python311\\Lib\\site-packages\\sklearn\\cluster\\_kmeans.py:1416: FutureWarning: The default value of `n_init` will change from 10 to 'auto' in 1.4. Set the value of `n_init` explicitly to suppress the warning\n",
      "  super()._check_params_vs_input(X, default_n_init=10)\n"
     ]
    }
   ],
   "source": [
    "y_predicted=km.fit_predict(df[['Team Total','Score']])"
   ]
  },
  {
   "cell_type": "code",
   "execution_count": 29,
   "metadata": {},
   "outputs": [],
   "source": [
    "df['cluster']=y_predicted"
   ]
  },
  {
   "cell_type": "code",
   "execution_count": 30,
   "metadata": {},
   "outputs": [
    {
     "data": {
      "text/html": [
       "<div>\n",
       "<style scoped>\n",
       "    .dataframe tbody tr th:only-of-type {\n",
       "        vertical-align: middle;\n",
       "    }\n",
       "\n",
       "    .dataframe tbody tr th {\n",
       "        vertical-align: top;\n",
       "    }\n",
       "\n",
       "    .dataframe thead th {\n",
       "        text-align: right;\n",
       "    }\n",
       "</style>\n",
       "<table border=\"1\" class=\"dataframe\">\n",
       "  <thead>\n",
       "    <tr style=\"text-align: right;\">\n",
       "      <th></th>\n",
       "      <th>Number</th>\n",
       "      <th>Format</th>\n",
       "      <th>Inning</th>\n",
       "      <th>Position</th>\n",
       "      <th>Score</th>\n",
       "      <th>Balls</th>\n",
       "      <th>Strike Rate</th>\n",
       "      <th>Against</th>\n",
       "      <th>Venue</th>\n",
       "      <th>Host Nation</th>\n",
       "      <th>Series</th>\n",
       "      <th>Year</th>\n",
       "      <th>Team Total</th>\n",
       "      <th>Wickets lost</th>\n",
       "      <th>Not Out</th>\n",
       "      <th>MOTM</th>\n",
       "      <th>Win</th>\n",
       "      <th>Captain</th>\n",
       "      <th>cluster</th>\n",
       "    </tr>\n",
       "  </thead>\n",
       "  <tbody>\n",
       "    <tr>\n",
       "      <th>0</th>\n",
       "      <td>1</td>\n",
       "      <td>ODI</td>\n",
       "      <td>2</td>\n",
       "      <td>4</td>\n",
       "      <td>107</td>\n",
       "      <td>114</td>\n",
       "      <td>93.859649</td>\n",
       "      <td>Sri Lanka</td>\n",
       "      <td>Kolkata</td>\n",
       "      <td>India</td>\n",
       "      <td>Bilateral</td>\n",
       "      <td>2009</td>\n",
       "      <td>316</td>\n",
       "      <td>3</td>\n",
       "      <td>No</td>\n",
       "      <td>No</td>\n",
       "      <td>Yes</td>\n",
       "      <td>No</td>\n",
       "      <td>4</td>\n",
       "    </tr>\n",
       "    <tr>\n",
       "      <th>1</th>\n",
       "      <td>2</td>\n",
       "      <td>ODI</td>\n",
       "      <td>2</td>\n",
       "      <td>3</td>\n",
       "      <td>102</td>\n",
       "      <td>95</td>\n",
       "      <td>107.368421</td>\n",
       "      <td>Bangladesh</td>\n",
       "      <td>Mirpur</td>\n",
       "      <td>Bangladesh</td>\n",
       "      <td>Tri-Series</td>\n",
       "      <td>2010</td>\n",
       "      <td>249</td>\n",
       "      <td>4</td>\n",
       "      <td>Yes</td>\n",
       "      <td>Yes</td>\n",
       "      <td>Yes</td>\n",
       "      <td>No</td>\n",
       "      <td>1</td>\n",
       "    </tr>\n",
       "    <tr>\n",
       "      <th>2</th>\n",
       "      <td>3</td>\n",
       "      <td>ODI</td>\n",
       "      <td>2</td>\n",
       "      <td>3</td>\n",
       "      <td>118</td>\n",
       "      <td>121</td>\n",
       "      <td>97.520661</td>\n",
       "      <td>Australia</td>\n",
       "      <td>Vizag</td>\n",
       "      <td>India</td>\n",
       "      <td>Bilateral</td>\n",
       "      <td>2010</td>\n",
       "      <td>292</td>\n",
       "      <td>5</td>\n",
       "      <td>No</td>\n",
       "      <td>Yes</td>\n",
       "      <td>Yes</td>\n",
       "      <td>No</td>\n",
       "      <td>4</td>\n",
       "    </tr>\n",
       "    <tr>\n",
       "      <th>3</th>\n",
       "      <td>4</td>\n",
       "      <td>ODI</td>\n",
       "      <td>1</td>\n",
       "      <td>3</td>\n",
       "      <td>105</td>\n",
       "      <td>104</td>\n",
       "      <td>100.961539</td>\n",
       "      <td>New Zealand</td>\n",
       "      <td>Guwahati</td>\n",
       "      <td>India</td>\n",
       "      <td>Bilateral</td>\n",
       "      <td>2010</td>\n",
       "      <td>276</td>\n",
       "      <td>10</td>\n",
       "      <td>No</td>\n",
       "      <td>Yes</td>\n",
       "      <td>Yes</td>\n",
       "      <td>No</td>\n",
       "      <td>4</td>\n",
       "    </tr>\n",
       "    <tr>\n",
       "      <th>4</th>\n",
       "      <td>5</td>\n",
       "      <td>ODI</td>\n",
       "      <td>1</td>\n",
       "      <td>4</td>\n",
       "      <td>100</td>\n",
       "      <td>83</td>\n",
       "      <td>120.481928</td>\n",
       "      <td>Bangladesh</td>\n",
       "      <td>Mirpur</td>\n",
       "      <td>Bangladesh</td>\n",
       "      <td>World Cup</td>\n",
       "      <td>2011</td>\n",
       "      <td>370</td>\n",
       "      <td>4</td>\n",
       "      <td>Yes</td>\n",
       "      <td>No</td>\n",
       "      <td>Yes</td>\n",
       "      <td>No</td>\n",
       "      <td>0</td>\n",
       "    </tr>\n",
       "  </tbody>\n",
       "</table>\n",
       "</div>"
      ],
      "text/plain": [
       "   Number Format  Inning Position  Score  Balls  Strike Rate      Against  \\\n",
       "0       1    ODI       2        4    107    114    93.859649    Sri Lanka   \n",
       "1       2    ODI       2        3    102     95   107.368421   Bangladesh   \n",
       "2       3    ODI       2        3    118    121    97.520661    Australia   \n",
       "3       4    ODI       1        3    105    104   100.961539  New Zealand   \n",
       "4       5    ODI       1        4    100     83   120.481928   Bangladesh   \n",
       "\n",
       "      Venue Host Nation      Series  Year  Team Total  Wickets lost Not Out  \\\n",
       "0   Kolkata       India   Bilateral  2009         316             3      No   \n",
       "1    Mirpur  Bangladesh  Tri-Series  2010         249             4     Yes   \n",
       "2     Vizag       India   Bilateral  2010         292             5      No   \n",
       "3  Guwahati       India   Bilateral  2010         276            10      No   \n",
       "4    Mirpur  Bangladesh   World Cup  2011         370             4     Yes   \n",
       "\n",
       "  MOTM  Win Captain  cluster  \n",
       "0   No  Yes      No        4  \n",
       "1  Yes  Yes      No        1  \n",
       "2  Yes  Yes      No        4  \n",
       "3  Yes  Yes      No        4  \n",
       "4   No  Yes      No        0  "
      ]
     },
     "execution_count": 30,
     "metadata": {},
     "output_type": "execute_result"
    }
   ],
   "source": [
    "df.head()"
   ]
  },
  {
   "cell_type": "code",
   "execution_count": 33,
   "metadata": {},
   "outputs": [],
   "source": [
    "df1=df[df.cluster==0]\n",
    "df2=df[df.cluster==1]\n",
    "df3=df[df.cluster==2]\n",
    "df4=df[df.cluster==3]\n",
    "df5=df[df.cluster==4]"
   ]
  },
  {
   "cell_type": "code",
   "execution_count": 38,
   "metadata": {},
   "outputs": [
    {
     "data": {
      "text/plain": [
       "<matplotlib.legend.Legend at 0x1a495493c50>"
      ]
     },
     "execution_count": 38,
     "metadata": {},
     "output_type": "execute_result"
    },
    {
     "data": {
      "image/png": "[encoded data removed]",
      "text/plain": [
       "<Figure size 640x480 with 1 Axes>"
      ]
     },
     "metadata": {},
     "output_type": "display_data"
    }
   ],
   "source": [
    "plt.scatter(df1['Team Total'],df1['Score'],label='cluster 1',color='green')\n",
    "plt.scatter(df2['Team Total'],df2['Score'],color='red',label='cluster 2')\n",
    "plt.scatter(df3['Team Total'],df3['Score'],color='black',label='cluster 3')\n",
    "plt.scatter(df4['Team Total'],df4['Score'],color='yellow',label='cluster 4')\n",
    "plt.scatter(df5['Team Total'],df5['Score'],color='blue',label='cluster 5')\n",
    "\n",
    "plt.xlabel('Team Total')\n",
    "plt.ylabel('Score')\n",
    "plt.legend()"
   ]
  },
  {
   "cell_type": "code",
   "execution_count": 39,
   "metadata": {},
   "outputs": [
    {
     "data": {
      "text/plain": [
       "array([[365.9375    , 116.3125    ],\n",
       "       [222.80952381, 109.9047619 ],\n",
       "       [598.        , 199.2       ],\n",
       "       [455.4       , 143.8       ],\n",
       "       [299.51428571, 125.        ]])"
      ]
     },
     "execution_count": 39,
     "metadata": {},
     "output_type": "execute_result"
    }
   ],
   "source": [
    "km.cluster_centers_"
   ]
  },
  {
   "cell_type": "code",
   "execution_count": 40,
   "metadata": {},
   "outputs": [
    {
     "data": {
      "text/plain": [
       "<matplotlib.legend.Legend at 0x1a4ac997bd0>"
      ]
     },
     "execution_count": 40,
     "metadata": {},
     "output_type": "execute_result"
    },
    {
     "data": {
      "image/png": "[encoded data removed]",
      "text/plain": [
       "<Figure size 640x480 with 1 Axes>"
      ]
     },
     "metadata": {},
     "output_type": "display_data"
    }
   ],
   "source": [
    "plt.scatter(df1['Team Total'],df1['Score'],label='cluster 1',color='green')\n",
    "plt.scatter(df2['Team Total'],df2['Score'],color='red',label='cluster 2')\n",
    "plt.scatter(df3['Team Total'],df3['Score'],color='black',label='cluster 3')\n",
    "plt.scatter(df4['Team Total'],df4['Score'],color='yellow',label='cluster 4')\n",
    "plt.scatter(df5['Team Total'],df5['Score'],color='blue',label='cluster 5')\n",
    "plt.scatter(km.cluster_centers_[:,0],km.cluster_centers_[:,1],color='purple',marker='*')\n",
    "\n",
    "plt.xlabel('Team Total')\n",
    "plt.ylabel('Score')\n",
    "plt.legend()"
   ]
  },
  {
   "cell_type": "code",
   "execution_count": null,
   "metadata": {},
   "outputs": [],
   "source": []
  }
 ],
 "metadata": {
  "kernelspec": {
   "display_name": "Python 3",
   "language": "python",
   "name": "python3"
  },
  "language_info": {
   "codemirror_mode": {
    "name": "ipython",
    "version": 3
   },
   "file_extension": ".py",
   "mimetype": "text/x-python",
   "name": "python",
   "nbconvert_exporter": "python",
   "pygments_lexer": "ipython3",
   "version": "3.11.5"
  }
 },
 "nbformat": 4,
 "nbformat_minor": 2
}
